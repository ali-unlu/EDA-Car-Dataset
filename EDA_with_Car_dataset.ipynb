{
  "nbformat": 4,
  "nbformat_minor": 5,
  "metadata": {
    "kernelspec": {
      "display_name": "Python 3 (ipykernel)",
      "language": "python",
      "name": "python3"
    },
    "language_info": {
      "codemirror_mode": {
        "name": "ipython",
        "version": 3
      },
      "file_extension": ".py",
      "mimetype": "text/x-python",
      "name": "python",
      "nbconvert_exporter": "python",
      "pygments_lexer": "ipython3",
      "version": "3.9.1"
    },
    "colab": {
      "name": "EDA with Car dataset.ipynb",
      "provenance": [],
      "include_colab_link": true
    }
  },
  "cells": [
    {
      "cell_type": "markdown",
      "metadata": {
        "id": "view-in-github",
        "colab_type": "text"
      },
      "source": [
        "<a href=\"https://colab.research.google.com/github/ali-unlu/EDA-Car-Dataset/blob/main/EDA_with_Car_dataset.ipynb\" target=\"_parent\"><img src=\"https://colab.research.google.com/assets/colab-badge.svg\" alt=\"Open In Colab\"/></a>"
      ]
    },
    {
      "cell_type": "markdown",
      "metadata": {
        "id": "c15f4606"
      },
      "source": [
        "# EDA for Automobile Dataset\n",
        "\n",
        "In this analysis, I will  demonstrate how to explore the cars.csv dataset using Python. I will first load the dataset and then process the data. I will also be visualizing the dataset and then finally apply ttest to explore the relationship between variables. When the final dataset is prepared, the same dataset can be used to develop various models. \n",
        "\n",
        "Data could be reached from [Kaggle with this link](https://www.kaggle.com/ljanjughazyan/cars1)"
      ],
      "id": "c15f4606"
    },
    {
      "cell_type": "code",
      "metadata": {
        "id": "72e1bce9"
      },
      "source": [
        "# required packages\n",
        "import pandas as pd \n",
        "import numpy as np\n",
        "import seaborn as sns \n",
        "import matplotlib.pyplot as plt\n",
        "sns.set(color_codes=True)"
      ],
      "id": "72e1bce9",
      "execution_count": null,
      "outputs": []
    },
    {
      "cell_type": "code",
      "metadata": {
        "scrolled": true,
        "id": "21cebcf9",
        "outputId": "b9027509-8414-4aec-a011-2027495bef01"
      },
      "source": [
        "# data\n",
        "df = pd.read_csv('CARS.csv')\n",
        "df.head()"
      ],
      "id": "21cebcf9",
      "execution_count": null,
      "outputs": [
        {
          "data": {
            "text/html": [
              "<div>\n",
              "<style scoped>\n",
              "    .dataframe tbody tr th:only-of-type {\n",
              "        vertical-align: middle;\n",
              "    }\n",
              "\n",
              "    .dataframe tbody tr th {\n",
              "        vertical-align: top;\n",
              "    }\n",
              "\n",
              "    .dataframe thead th {\n",
              "        text-align: right;\n",
              "    }\n",
              "</style>\n",
              "<table border=\"1\" class=\"dataframe\">\n",
              "  <thead>\n",
              "    <tr style=\"text-align: right;\">\n",
              "      <th></th>\n",
              "      <th>Make</th>\n",
              "      <th>Model</th>\n",
              "      <th>Type</th>\n",
              "      <th>Origin</th>\n",
              "      <th>DriveTrain</th>\n",
              "      <th>MSRP</th>\n",
              "      <th>Invoice</th>\n",
              "      <th>EngineSize</th>\n",
              "      <th>Cylinders</th>\n",
              "      <th>Horsepower</th>\n",
              "      <th>MPG_City</th>\n",
              "      <th>MPG_Highway</th>\n",
              "      <th>Weight</th>\n",
              "      <th>Wheelbase</th>\n",
              "      <th>Length</th>\n",
              "    </tr>\n",
              "  </thead>\n",
              "  <tbody>\n",
              "    <tr>\n",
              "      <th>0</th>\n",
              "      <td>Acura</td>\n",
              "      <td>MDX</td>\n",
              "      <td>SUV</td>\n",
              "      <td>Asia</td>\n",
              "      <td>All</td>\n",
              "      <td>$36,945</td>\n",
              "      <td>$33,337</td>\n",
              "      <td>3.5</td>\n",
              "      <td>6.0</td>\n",
              "      <td>265</td>\n",
              "      <td>17</td>\n",
              "      <td>23</td>\n",
              "      <td>4451</td>\n",
              "      <td>106</td>\n",
              "      <td>189</td>\n",
              "    </tr>\n",
              "    <tr>\n",
              "      <th>1</th>\n",
              "      <td>Acura</td>\n",
              "      <td>RSX Type S 2dr</td>\n",
              "      <td>Sedan</td>\n",
              "      <td>Asia</td>\n",
              "      <td>Front</td>\n",
              "      <td>$23,820</td>\n",
              "      <td>$21,761</td>\n",
              "      <td>2.0</td>\n",
              "      <td>4.0</td>\n",
              "      <td>200</td>\n",
              "      <td>24</td>\n",
              "      <td>31</td>\n",
              "      <td>2778</td>\n",
              "      <td>101</td>\n",
              "      <td>172</td>\n",
              "    </tr>\n",
              "    <tr>\n",
              "      <th>2</th>\n",
              "      <td>Acura</td>\n",
              "      <td>TSX 4dr</td>\n",
              "      <td>Sedan</td>\n",
              "      <td>Asia</td>\n",
              "      <td>Front</td>\n",
              "      <td>$26,990</td>\n",
              "      <td>$24,647</td>\n",
              "      <td>2.4</td>\n",
              "      <td>4.0</td>\n",
              "      <td>200</td>\n",
              "      <td>22</td>\n",
              "      <td>29</td>\n",
              "      <td>3230</td>\n",
              "      <td>105</td>\n",
              "      <td>183</td>\n",
              "    </tr>\n",
              "    <tr>\n",
              "      <th>3</th>\n",
              "      <td>Acura</td>\n",
              "      <td>TL 4dr</td>\n",
              "      <td>Sedan</td>\n",
              "      <td>Asia</td>\n",
              "      <td>Front</td>\n",
              "      <td>$33,195</td>\n",
              "      <td>$30,299</td>\n",
              "      <td>3.2</td>\n",
              "      <td>6.0</td>\n",
              "      <td>270</td>\n",
              "      <td>20</td>\n",
              "      <td>28</td>\n",
              "      <td>3575</td>\n",
              "      <td>108</td>\n",
              "      <td>186</td>\n",
              "    </tr>\n",
              "    <tr>\n",
              "      <th>4</th>\n",
              "      <td>Acura</td>\n",
              "      <td>3.5 RL 4dr</td>\n",
              "      <td>Sedan</td>\n",
              "      <td>Asia</td>\n",
              "      <td>Front</td>\n",
              "      <td>$43,755</td>\n",
              "      <td>$39,014</td>\n",
              "      <td>3.5</td>\n",
              "      <td>6.0</td>\n",
              "      <td>225</td>\n",
              "      <td>18</td>\n",
              "      <td>24</td>\n",
              "      <td>3880</td>\n",
              "      <td>115</td>\n",
              "      <td>197</td>\n",
              "    </tr>\n",
              "  </tbody>\n",
              "</table>\n",
              "</div>"
            ],
            "text/plain": [
              "    Make           Model   Type Origin DriveTrain     MSRP  Invoice  \\\n",
              "0  Acura             MDX    SUV   Asia        All  $36,945  $33,337   \n",
              "1  Acura  RSX Type S 2dr  Sedan   Asia      Front  $23,820  $21,761   \n",
              "2  Acura         TSX 4dr  Sedan   Asia      Front  $26,990  $24,647   \n",
              "3  Acura          TL 4dr  Sedan   Asia      Front  $33,195  $30,299   \n",
              "4  Acura      3.5 RL 4dr  Sedan   Asia      Front  $43,755  $39,014   \n",
              "\n",
              "   EngineSize  Cylinders  Horsepower  MPG_City  MPG_Highway  Weight  \\\n",
              "0         3.5        6.0         265        17           23    4451   \n",
              "1         2.0        4.0         200        24           31    2778   \n",
              "2         2.4        4.0         200        22           29    3230   \n",
              "3         3.2        6.0         270        20           28    3575   \n",
              "4         3.5        6.0         225        18           24    3880   \n",
              "\n",
              "   Wheelbase  Length  \n",
              "0        106     189  \n",
              "1        101     172  \n",
              "2        105     183  \n",
              "3        108     186  \n",
              "4        115     197  "
            ]
          },
          "execution_count": 2,
          "metadata": {},
          "output_type": "execute_result"
        }
      ]
    },
    {
      "cell_type": "code",
      "metadata": {
        "scrolled": false,
        "id": "578ff260",
        "outputId": "35fd6365-533b-429f-d7d5-c588c22e60e0"
      },
      "source": [
        "# dimension of the df\n",
        "print(df.shape)\n",
        "\n",
        "# data types\n",
        "print(df.dtypes)"
      ],
      "id": "578ff260",
      "execution_count": null,
      "outputs": [
        {
          "name": "stdout",
          "output_type": "stream",
          "text": [
            "(428, 15)\n",
            "Make            object\n",
            "Model           object\n",
            "Type            object\n",
            "Origin          object\n",
            "DriveTrain      object\n",
            "MSRP            object\n",
            "Invoice         object\n",
            "EngineSize     float64\n",
            "Cylinders      float64\n",
            "Horsepower       int64\n",
            "MPG_City         int64\n",
            "MPG_Highway      int64\n",
            "Weight           int64\n",
            "Wheelbase        int64\n",
            "Length           int64\n",
            "dtype: object\n"
          ]
        }
      ]
    },
    {
      "cell_type": "markdown",
      "metadata": {
        "id": "0ac959fb"
      },
      "source": [
        "We have now 428 rows and 15 columns.  While 7 of the variables are characters, the rest are integer or float but MSRP and invoice columns were set to characters, which need to convert into integer. Car price is our outcome or target variable and the rest will be used as the predictors of car price. "
      ],
      "id": "0ac959fb"
    },
    {
      "cell_type": "markdown",
      "metadata": {
        "id": "09127008"
      },
      "source": [
        "# Data processing"
      ],
      "id": "09127008"
    },
    {
      "cell_type": "markdown",
      "metadata": {
        "id": "09d14b84"
      },
      "source": [
        "Since car price, __MSRP__ , is our target variable and it is in __chr__ format, we need to first convert it to integers. Nevertheless, price has __$__ and __(,)__ signs, we first need to remove those and then convert it to real numbers."
      ],
      "id": "09d14b84"
    },
    {
      "cell_type": "code",
      "metadata": {
        "id": "e7ebd83a"
      },
      "source": [
        "df['MSRP']= df.MSRP.apply(lambda x: x.replace('$', ''))\n",
        "df['MSRP']= df.MSRP.apply(lambda x: x.replace(',', ''))"
      ],
      "id": "e7ebd83a",
      "execution_count": null,
      "outputs": []
    },
    {
      "cell_type": "code",
      "metadata": {
        "id": "3f0a5dbc",
        "outputId": "b3f3d90e-ebd5-4900-eb7c-00eb61163a34"
      },
      "source": [
        "df['MSRP']=pd.to_numeric(df['MSRP'],errors='coerce')\n",
        "df['MSRP'].head()"
      ],
      "id": "3f0a5dbc",
      "execution_count": null,
      "outputs": [
        {
          "data": {
            "text/plain": [
              "0    36945\n",
              "1    23820\n",
              "2    26990\n",
              "3    33195\n",
              "4    43755\n",
              "Name: MSRP, dtype: int64"
            ]
          },
          "execution_count": 5,
          "metadata": {},
          "output_type": "execute_result"
        }
      ]
    },
    {
      "cell_type": "markdown",
      "metadata": {
        "id": "2376c7ad"
      },
      "source": [
        "After converting price into numbers, we need to check the outliers of price since we use ttest to compare different groups. If there are some outliners in prices, it will affect  our results because ttest is mainly based on mean comparison. In that situation, an outlier will affect the groups mean. So, we will use normalization procedure. "
      ],
      "id": "2376c7ad"
    },
    {
      "cell_type": "code",
      "metadata": {
        "id": "3329e338",
        "outputId": "7ca73f21-d866-4331-81f7-b19ac369d06d"
      },
      "source": [
        "#Check the distribution\n",
        "sns.boxplot(x=df['MSRP'])"
      ],
      "id": "3329e338",
      "execution_count": null,
      "outputs": [
        {
          "data": {
            "text/plain": [
              "<AxesSubplot:xlabel='MSRP'>"
            ]
          },
          "execution_count": 6,
          "metadata": {},
          "output_type": "execute_result"
        },
        {
          "data": {
            "image/png": "[encoded data removed]",
            "text/plain": [
              "<Figure size 432x288 with 1 Axes>"
            ]
          },
          "metadata": {},
          "output_type": "display_data"
        }
      ]
    },
    {
      "cell_type": "code",
      "metadata": {
        "id": "923b8466",
        "outputId": "0eed3306-59a7-4ea5-86f9-13dc8928b93e"
      },
      "source": [
        "# let's see what kind of cars have extreme prices\n",
        "outliers = df[(df.MSRP > 75000)]\n",
        "print('Number of the cars in outlier list: ', len(outliers))\n",
        "\n",
        "print(outliers[['Make', 'Model', 'MSRP']])\n"
      ],
      "id": "923b8466",
      "execution_count": null,
      "outputs": [
        {
          "name": "stdout",
          "output_type": "stream",
          "text": [
            "Number of the cars in outlier list:  17\n",
            "              Make                                Model    MSRP\n",
            "6            Acura               NSX coupe 2dr manual S   89765\n",
            "20            Audi                             RS 6 4dr   84600\n",
            "61        Cadillac                  XLR convertible 2dr   76200\n",
            "114          Dodge         Viper SRT-10 convertible 2dr   81795\n",
            "199         Jaguar                        XKR coupe 2dr   81995\n",
            "200         Jaguar                  XKR convertible 2dr   86995\n",
            "251  Mercedes-Benz                                 G500   76870\n",
            "261  Mercedes-Benz                            CL500 2dr   94820\n",
            "262  Mercedes-Benz                            CL600 2dr  128420\n",
            "268  Mercedes-Benz                             S500 4dr   86970\n",
            "269  Mercedes-Benz                SL500 convertible 2dr   90520\n",
            "270  Mercedes-Benz                         SL55 AMG 2dr  121770\n",
            "271  Mercedes-Benz                SL600 convertible 2dr  126670\n",
            "331        Porsche  911 Carrera convertible 2dr (coupe)   79165\n",
            "332        Porsche   911 Carrera 4S coupe 2dr (convert)   84165\n",
            "333        Porsche                  911 Targa coupe 2dr   76765\n",
            "334        Porsche                          911 GT2 2dr  192465\n"
          ]
        }
      ]
    },
    {
      "cell_type": "markdown",
      "metadata": {
        "id": "ab75e417"
      },
      "source": [
        "In our data set, there are 17 cars can be categorized as outliers and all these cars in in luxury category. Depending on the research aims, these can be kept as is in the dataset but since we will make ttest, these cars absoulately affect our result, so we will remove them. "
      ],
      "id": "ab75e417"
    },
    {
      "cell_type": "markdown",
      "metadata": {
        "id": "cd4fea99"
      },
      "source": [
        "### Outliers\n",
        "\n",
        "As seen above, there are few prices that are outliers. To normalize our outcome variable, I will use interquartile range technique.\n",
        "\n",
        "__According to Wikipedia:__ The interquartile range (IQR), also called the midspread or middle 50%, or technically H-spread, is a measure of statistical dispersion, being equal to the difference between 75th and 25th percentiles, or between upper and lower quartiles, IQR = Q3 − Q1."
      ],
      "id": "cd4fea99"
    },
    {
      "cell_type": "code",
      "metadata": {
        "id": "1ca5ea61",
        "outputId": "ecf40f00-e955-4e28-899f-e7d5a86b8b97"
      },
      "source": [
        "Q1 = df.quantile(0.25)\n",
        "Q3 = df.quantile(0.75)\n",
        "IQR = Q3 - Q1\n",
        "print(IQR)"
      ],
      "id": "1ca5ea61",
      "execution_count": null,
      "outputs": [
        {
          "name": "stdout",
          "output_type": "stream",
          "text": [
            "MSRP           18870.750\n",
            "EngineSize         1.525\n",
            "Cylinders          2.000\n",
            "Horsepower        90.000\n",
            "MPG_City           4.250\n",
            "MPG_Highway        5.000\n",
            "Weight           873.750\n",
            "Wheelbase          9.000\n",
            "Length            16.000\n",
            "dtype: float64\n"
          ]
        }
      ]
    },
    {
      "cell_type": "code",
      "metadata": {
        "id": "4e1e5f21",
        "outputId": "1f821907-55cd-4c00-e77c-8187f650f0d6"
      },
      "source": [
        "df = df[~((df < (Q1 - 1.5 * IQR)) |(df > (Q3 + 1.5 * IQR))).any(axis=1)]"
      ],
      "id": "4e1e5f21",
      "execution_count": null,
      "outputs": [
        {
          "name": "stderr",
          "output_type": "stream",
          "text": [
            "C:\\Users\\aunc\\AppData\\Local\\Temp/ipykernel_3960/2227700030.py:1: FutureWarning: Automatic reindexing on DataFrame vs Series comparisons is deprecated and will raise ValueError in a future version.  Do `left, right = left.align(right, axis=1, copy=False)` before e.g. `left == right`\n",
            "  df = df[~((df < (Q1 - 1.5 * IQR)) |(df > (Q3 + 1.5 * IQR))).any(axis=1)]\n"
          ]
        }
      ]
    },
    {
      "cell_type": "code",
      "metadata": {
        "id": "9a5fdcb9",
        "outputId": "6ba5df1e-281c-45d9-b9c8-1a65dcc39213"
      },
      "source": [
        "# re-checked the distribution\n",
        "sns.boxplot(x=df['MSRP'])"
      ],
      "id": "9a5fdcb9",
      "execution_count": null,
      "outputs": [
        {
          "data": {
            "text/plain": [
              "<AxesSubplot:xlabel='MSRP'>"
            ]
          },
          "execution_count": 10,
          "metadata": {},
          "output_type": "execute_result"
        },
        {
          "data": {
            "image/png": "[encoded data removed]",
            "text/plain": [
              "<Figure size 432x288 with 1 Axes>"
            ]
          },
          "metadata": {},
          "output_type": "display_data"
        }
      ]
    },
    {
      "cell_type": "markdown",
      "metadata": {
        "id": "b18eb499"
      },
      "source": [
        "After using the technique now as seen below the MSRP box plot contains no outlier points this is a big improvement. Previously there were over 15 points of outliers now I have removed those outliers"
      ],
      "id": "b18eb499"
    },
    {
      "cell_type": "code",
      "metadata": {
        "id": "7905130f"
      },
      "source": [
        "\n",
        "df['Invoice']= df.Invoice.apply(lambda x: x.replace('$', ''))\n",
        "df['Invoice']= df.Invoice.apply(lambda x: x.replace(',', ''))\n"
      ],
      "id": "7905130f",
      "execution_count": null,
      "outputs": []
    },
    {
      "cell_type": "code",
      "metadata": {
        "id": "80103310",
        "outputId": "26b19eee-d0d5-475e-d375-f4e3fc028c18"
      },
      "source": [
        "df['Invoice']=pd.to_numeric(df['Invoice'],errors='coerce')\n",
        "df['Invoice']"
      ],
      "id": "80103310",
      "execution_count": null,
      "outputs": [
        {
          "data": {
            "text/plain": [
              "0      33337\n",
              "1      21761\n",
              "2      24647\n",
              "3      30299\n",
              "4      39014\n",
              "       ...  \n",
              "423    38203\n",
              "424    40083\n",
              "425    42573\n",
              "426    24641\n",
              "427    33112\n",
              "Name: Invoice, Length: 341, dtype: int64"
            ]
          },
          "execution_count": 12,
          "metadata": {},
          "output_type": "execute_result"
        }
      ]
    },
    {
      "cell_type": "markdown",
      "metadata": {
        "id": "0886439d"
      },
      "source": [
        " I also test the Robust scaleer function to the target variable to see how it affects its distribution. The process converts the values between -1 to +2.5 values and it can be used if the model will be used for ML models but since we will make a ttest, this process does not fit well to our model. I kept the data as processed above. This codes are only for my future references. "
      ],
      "id": "0886439d"
    },
    {
      "cell_type": "code",
      "metadata": {
        "id": "73f5b17f"
      },
      "source": [
        "\n",
        "from sklearn import preprocessing\n",
        "robust_scaler = preprocessing.RobustScaler()\n",
        "\n",
        "column_names_to_normalize = ['MSRP', 'Invoice']\n",
        "x = df[column_names_to_normalize].values\n",
        "\n",
        "# x_scaled = min_max_scaler.fit_transform(x)\n",
        "x_scaled = robust_scaler.fit_transform(x)\n",
        "\n",
        "\n",
        "df_temp = pd.DataFrame(x_scaled, columns=column_names_to_normalize, index = df.index)\n",
        "df[column_names_to_normalize] = df_temp\n",
        "\n",
        "\n"
      ],
      "id": "73f5b17f",
      "execution_count": null,
      "outputs": []
    },
    {
      "cell_type": "code",
      "metadata": {
        "id": "2d232807"
      },
      "source": [
        "# re-checked \n",
        "#Check the distribution\n",
        "sns.boxplot(x=df['MSRP'])"
      ],
      "id": "2d232807",
      "execution_count": null,
      "outputs": []
    },
    {
      "cell_type": "code",
      "metadata": {
        "id": "10816bea",
        "outputId": "d934ada3-a42f-4ebe-9c48-21ddf9e82ff8"
      },
      "source": [
        "# summary of the df\n",
        "df.describe()"
      ],
      "id": "10816bea",
      "execution_count": null,
      "outputs": [
        {
          "data": {
            "text/html": [
              "<div>\n",
              "<style scoped>\n",
              "    .dataframe tbody tr th:only-of-type {\n",
              "        vertical-align: middle;\n",
              "    }\n",
              "\n",
              "    .dataframe tbody tr th {\n",
              "        vertical-align: top;\n",
              "    }\n",
              "\n",
              "    .dataframe thead th {\n",
              "        text-align: right;\n",
              "    }\n",
              "</style>\n",
              "<table border=\"1\" class=\"dataframe\">\n",
              "  <thead>\n",
              "    <tr style=\"text-align: right;\">\n",
              "      <th></th>\n",
              "      <th>MSRP</th>\n",
              "      <th>Invoice</th>\n",
              "      <th>EngineSize</th>\n",
              "      <th>Cylinders</th>\n",
              "      <th>Horsepower</th>\n",
              "      <th>MPG_City</th>\n",
              "      <th>MPG_Highway</th>\n",
              "      <th>Weight</th>\n",
              "      <th>Wheelbase</th>\n",
              "      <th>Length</th>\n",
              "    </tr>\n",
              "  </thead>\n",
              "  <tbody>\n",
              "    <tr>\n",
              "      <th>count</th>\n",
              "      <td>341.000000</td>\n",
              "      <td>341.000000</td>\n",
              "      <td>341.000000</td>\n",
              "      <td>339.000000</td>\n",
              "      <td>341.000000</td>\n",
              "      <td>341.000000</td>\n",
              "      <td>341.000000</td>\n",
              "      <td>341.000000</td>\n",
              "      <td>341.000000</td>\n",
              "      <td>341.000000</td>\n",
              "    </tr>\n",
              "    <tr>\n",
              "      <th>mean</th>\n",
              "      <td>29789.439883</td>\n",
              "      <td>27332.146628</td>\n",
              "      <td>3.106158</td>\n",
              "      <td>5.684366</td>\n",
              "      <td>210.513196</td>\n",
              "      <td>19.624633</td>\n",
              "      <td>26.618768</td>\n",
              "      <td>3543.299120</td>\n",
              "      <td>107.803519</td>\n",
              "      <td>186.304985</td>\n",
              "    </tr>\n",
              "    <tr>\n",
              "      <th>std</th>\n",
              "      <td>11048.748802</td>\n",
              "      <td>9961.342314</td>\n",
              "      <td>0.890269</td>\n",
              "      <td>1.320332</td>\n",
              "      <td>54.939839</td>\n",
              "      <td>2.928538</td>\n",
              "      <td>3.834994</td>\n",
              "      <td>562.054298</td>\n",
              "      <td>5.905091</td>\n",
              "      <td>11.652099</td>\n",
              "    </tr>\n",
              "    <tr>\n",
              "      <th>min</th>\n",
              "      <td>10280.000000</td>\n",
              "      <td>9875.000000</td>\n",
              "      <td>1.300000</td>\n",
              "      <td>4.000000</td>\n",
              "      <td>104.000000</td>\n",
              "      <td>13.000000</td>\n",
              "      <td>17.000000</td>\n",
              "      <td>2403.000000</td>\n",
              "      <td>95.000000</td>\n",
              "      <td>158.000000</td>\n",
              "    </tr>\n",
              "    <tr>\n",
              "      <th>25%</th>\n",
              "      <td>21445.000000</td>\n",
              "      <td>19801.000000</td>\n",
              "      <td>2.400000</td>\n",
              "      <td>4.000000</td>\n",
              "      <td>170.000000</td>\n",
              "      <td>18.000000</td>\n",
              "      <td>25.000000</td>\n",
              "      <td>3188.000000</td>\n",
              "      <td>104.000000</td>\n",
              "      <td>178.000000</td>\n",
              "    </tr>\n",
              "    <tr>\n",
              "      <th>50%</th>\n",
              "      <td>27560.000000</td>\n",
              "      <td>25218.000000</td>\n",
              "      <td>3.000000</td>\n",
              "      <td>6.000000</td>\n",
              "      <td>208.000000</td>\n",
              "      <td>19.000000</td>\n",
              "      <td>26.000000</td>\n",
              "      <td>3470.000000</td>\n",
              "      <td>107.000000</td>\n",
              "      <td>187.000000</td>\n",
              "    </tr>\n",
              "    <tr>\n",
              "      <th>75%</th>\n",
              "      <td>36395.000000</td>\n",
              "      <td>33129.000000</td>\n",
              "      <td>3.500000</td>\n",
              "      <td>6.000000</td>\n",
              "      <td>240.000000</td>\n",
              "      <td>21.000000</td>\n",
              "      <td>29.000000</td>\n",
              "      <td>3851.000000</td>\n",
              "      <td>112.000000</td>\n",
              "      <td>193.000000</td>\n",
              "    </tr>\n",
              "    <tr>\n",
              "      <th>max</th>\n",
              "      <td>65000.000000</td>\n",
              "      <td>59912.000000</td>\n",
              "      <td>5.700000</td>\n",
              "      <td>8.000000</td>\n",
              "      <td>390.000000</td>\n",
              "      <td>27.000000</td>\n",
              "      <td>36.000000</td>\n",
              "      <td>5270.000000</td>\n",
              "      <td>124.000000</td>\n",
              "      <td>215.000000</td>\n",
              "    </tr>\n",
              "  </tbody>\n",
              "</table>\n",
              "</div>"
            ],
            "text/plain": [
              "               MSRP       Invoice  EngineSize   Cylinders  Horsepower  \\\n",
              "count    341.000000    341.000000  341.000000  339.000000  341.000000   \n",
              "mean   29789.439883  27332.146628    3.106158    5.684366  210.513196   \n",
              "std    11048.748802   9961.342314    0.890269    1.320332   54.939839   \n",
              "min    10280.000000   9875.000000    1.300000    4.000000  104.000000   \n",
              "25%    21445.000000  19801.000000    2.400000    4.000000  170.000000   \n",
              "50%    27560.000000  25218.000000    3.000000    6.000000  208.000000   \n",
              "75%    36395.000000  33129.000000    3.500000    6.000000  240.000000   \n",
              "max    65000.000000  59912.000000    5.700000    8.000000  390.000000   \n",
              "\n",
              "         MPG_City  MPG_Highway       Weight   Wheelbase      Length  \n",
              "count  341.000000   341.000000   341.000000  341.000000  341.000000  \n",
              "mean    19.624633    26.618768  3543.299120  107.803519  186.304985  \n",
              "std      2.928538     3.834994   562.054298    5.905091   11.652099  \n",
              "min     13.000000    17.000000  2403.000000   95.000000  158.000000  \n",
              "25%     18.000000    25.000000  3188.000000  104.000000  178.000000  \n",
              "50%     19.000000    26.000000  3470.000000  107.000000  187.000000  \n",
              "75%     21.000000    29.000000  3851.000000  112.000000  193.000000  \n",
              "max     27.000000    36.000000  5270.000000  124.000000  215.000000  "
            ]
          },
          "execution_count": 13,
          "metadata": {},
          "output_type": "execute_result"
        }
      ]
    },
    {
      "cell_type": "markdown",
      "metadata": {
        "id": "ffd93252"
      },
      "source": [
        "Interestingle enough that the data has few missing variables. It seems only cylinders column has two missing variables. We can replace missing value with median. "
      ],
      "id": "ffd93252"
    },
    {
      "cell_type": "code",
      "metadata": {
        "id": "959d0fd2",
        "outputId": "da4502df-0fd3-4209-d31f-8380199a9180"
      },
      "source": [
        "# remove dublicates\n",
        "df = df.drop_duplicates(subset='MSRP', keep='first')\n",
        "df.count()\n"
      ],
      "id": "959d0fd2",
      "execution_count": null,
      "outputs": [
        {
          "data": {
            "text/plain": [
              "Make           327\n",
              "Model          327\n",
              "Type           327\n",
              "Origin         327\n",
              "DriveTrain     327\n",
              "MSRP           327\n",
              "Invoice        327\n",
              "EngineSize     327\n",
              "Cylinders      325\n",
              "Horsepower     327\n",
              "MPG_City       327\n",
              "MPG_Highway    327\n",
              "Weight         327\n",
              "Wheelbase      327\n",
              "Length         327\n",
              "dtype: int64"
            ]
          },
          "execution_count": 14,
          "metadata": {},
          "output_type": "execute_result"
        }
      ]
    },
    {
      "cell_type": "code",
      "metadata": {
        "id": "5bb09192",
        "outputId": "7f81319c-f2cc-48f4-ff2a-aaf060c4085e"
      },
      "source": [
        "# replace missing with median because it is a cyclinder\n",
        "\n",
        "df['Cylinders'] = df['Cylinders'].fillna(df['Cylinders'].median())\n",
        "df.count()\n"
      ],
      "id": "5bb09192",
      "execution_count": null,
      "outputs": [
        {
          "data": {
            "text/plain": [
              "Make           327\n",
              "Model          327\n",
              "Type           327\n",
              "Origin         327\n",
              "DriveTrain     327\n",
              "MSRP           327\n",
              "Invoice        327\n",
              "EngineSize     327\n",
              "Cylinders      327\n",
              "Horsepower     327\n",
              "MPG_City       327\n",
              "MPG_Highway    327\n",
              "Weight         327\n",
              "Wheelbase      327\n",
              "Length         327\n",
              "dtype: int64"
            ]
          },
          "execution_count": 15,
          "metadata": {},
          "output_type": "execute_result"
        }
      ]
    },
    {
      "cell_type": "markdown",
      "metadata": {
        "id": "16642843"
      },
      "source": [
        "# Plots"
      ],
      "id": "16642843"
    },
    {
      "cell_type": "markdown",
      "metadata": {
        "id": "1b78173e"
      },
      "source": [
        "We can look at how many different cars companies have with bar plot. I will include the top 40 companies according to their repository. "
      ],
      "id": "1b78173e"
    },
    {
      "cell_type": "code",
      "metadata": {
        "id": "c4c28eb7",
        "outputId": "c65df804-833f-43c1-a9dd-64207145c34a"
      },
      "source": [
        "# Plotting a Histogram\n",
        "df.Make.value_counts().nlargest(40).plot(kind='bar', figsize=(10,5))\n",
        "plt.title(\"Number of cars by make\")\n",
        "plt.ylabel('Number of cars')\n",
        "plt.xlabel('Make');"
      ],
      "id": "c4c28eb7",
      "execution_count": null,
      "outputs": [
        {
          "data": {
            "image/png": "[encoded data removed]",
            "text/plain": [
              "<Figure size 720x360 with 1 Axes>"
            ]
          },
          "metadata": {},
          "output_type": "display_data"
        }
      ]
    },
    {
      "cell_type": "markdown",
      "metadata": {
        "id": "60dc5d99"
      },
      "source": [
        "We can first look at the correlation between horsepower and price"
      ],
      "id": "60dc5d99"
    },
    {
      "cell_type": "code",
      "metadata": {
        "id": "7954284d",
        "outputId": "88ea6b3c-bb3b-4967-b543-430d677589c9"
      },
      "source": [
        "ax= plt.axes()\n",
        "ax.scatter(df.Horsepower, df.MSRP)"
      ],
      "id": "7954284d",
      "execution_count": null,
      "outputs": [
        {
          "data": {
            "text/plain": [
              "<matplotlib.collections.PathCollection at 0x273c388af40>"
            ]
          },
          "execution_count": 17,
          "metadata": {},
          "output_type": "execute_result"
        },
        {
          "data": {
            "image/png": "[encoded data removed]",
            "text/plain": [
              "<Figure size 432x288 with 1 Axes>"
            ]
          },
          "metadata": {},
          "output_type": "display_data"
        }
      ]
    },
    {
      "cell_type": "code",
      "metadata": {
        "id": "f78689e9",
        "outputId": "1e268ffa-dc6a-4132-c1fa-7cbcc1a37cc4"
      },
      "source": [
        "# Plotting a heat map\n",
        "plt.figure(figsize=(10,5))\n",
        "c= df.corr()\n",
        "sns.heatmap(c,cmap=\"BrBG\",annot=True)"
      ],
      "id": "f78689e9",
      "execution_count": null,
      "outputs": [
        {
          "data": {
            "text/plain": [
              "<AxesSubplot:>"
            ]
          },
          "execution_count": 18,
          "metadata": {},
          "output_type": "execute_result"
        },
        {
          "data": {
            "image/png": "[encoded data removed]",
            "text/plain": [
              "<Figure size 720x360 with 2 Axes>"
            ]
          },
          "metadata": {},
          "output_type": "display_data"
        }
      ]
    },
    {
      "cell_type": "markdown",
      "metadata": {
        "id": "66518066"
      },
      "source": [
        "# Hypothesis "
      ],
      "id": "66518066"
    },
    {
      "cell_type": "markdown",
      "metadata": {
        "id": "e13ca6ba"
      },
      "source": [
        "## 1 T test\n",
        "\n",
        "The two sample t-test is also known as the independent samples, independent, and unpaired t-test. Moreover, this type of statistical test compares two averages (means) and will give you information if these two means are statistically different from each other. The t-test also tells you whether the differences are statistically significant. In other words it lets you know if those differences could have happened by chance.\n",
        "\n",
        "Now, when performing t-tests you typically have the following two hypotheses:\n",
        "\n",
        "    Null hypotheses: Two group means are equal\n",
        "    Alternative hypotheses: Two group means are different (two-tailed)\n",
        "\n",
        "- Ho: µ EU cars == µ US cars\n",
        "- Ha: µ EU cars != µ US cars"
      ],
      "id": "e13ca6ba"
    },
    {
      "cell_type": "code",
      "metadata": {
        "id": "816f8a9d"
      },
      "source": [
        "# Subset data\n",
        "EU_cars = df.query('Origin == \"Asia\"')['MSRP']\n",
        "US_cars = df.query('Origin == \"USA\"')['MSRP']\n"
      ],
      "id": "816f8a9d",
      "execution_count": null,
      "outputs": []
    },
    {
      "cell_type": "code",
      "metadata": {
        "id": "5459860b"
      },
      "source": [
        "from scipy import stats\n",
        "rng = np.random.default_rng()"
      ],
      "id": "5459860b",
      "execution_count": null,
      "outputs": []
    },
    {
      "cell_type": "code",
      "metadata": {
        "id": "011e7716",
        "outputId": "8fc239e0-4071-40e6-c1be-29394205e24b"
      },
      "source": [
        "res = stats.ttest_ind(EU_cars, US_cars, \n",
        "                      equal_var=True)\n",
        "\n",
        "display(res)"
      ],
      "id": "011e7716",
      "execution_count": null,
      "outputs": [
        {
          "data": {
            "text/plain": [
              "Ttest_indResult(statistic=-1.1743283738395427, pvalue=0.2414727243778856)"
            ]
          },
          "metadata": {},
          "output_type": "display_data"
        }
      ]
    },
    {
      "cell_type": "markdown",
      "metadata": {
        "id": "0b52bc9c"
      },
      "source": [
        "__Conclusion:__ Our results show that the difference between EU cars and USA cars is not statistically significant.  It is safe to say that we fail to reject null hypotesis. Although there seems to be a difference on the grapgh, this variation is not statistically significant.  I also checked the results without removing outliers and the outliers affect this test and suggest that EU cars are expensive, as explained above."
      ],
      "id": "0b52bc9c"
    },
    {
      "cell_type": "code",
      "metadata": {
        "id": "4092e3e3",
        "outputId": "40360ce1-7ee8-4d10-b5d3-5602873470ca"
      },
      "source": [
        "# Box plot for the origins of cars\n",
        "sns.boxplot(x= 'Origin', y='MSRP',  data= df)"
      ],
      "id": "4092e3e3",
      "execution_count": null,
      "outputs": [
        {
          "data": {
            "text/plain": [
              "<AxesSubplot:xlabel='Origin', ylabel='MSRP'>"
            ]
          },
          "execution_count": 22,
          "metadata": {},
          "output_type": "execute_result"
        },
        {
          "data": {
            "image/png": "[encoded data removed]",
            "text/plain": [
              "<Figure size 432x288 with 1 Axes>"
            ]
          },
          "metadata": {},
          "output_type": "display_data"
        }
      ]
    },
    {
      "cell_type": "markdown",
      "metadata": {
        "id": "c49b52b6"
      },
      "source": [
        "## Hypothesis 2\n",
        "\n",
        "The second hypothesis is based on the assumption that rear drive cars are expensive than front drive cars. \n",
        "\n",
        "Ho: µ Rear drive car == µ Front drive car  \n",
        "Ha: µ Rear drive train car != µ Front drive car"
      ],
      "id": "c49b52b6"
    },
    {
      "cell_type": "code",
      "metadata": {
        "id": "0834a3dd"
      },
      "source": [
        "# Subset data\n",
        "rear = df.query('DriveTrain == \"Rear\"')['MSRP']\n",
        "front = df.query('DriveTrain == \"Front\"')['MSRP']\n",
        "\n"
      ],
      "id": "0834a3dd",
      "execution_count": null,
      "outputs": []
    },
    {
      "cell_type": "code",
      "metadata": {
        "id": "08e5d5b1",
        "outputId": "1935d949-7473-4538-a594-474755746939"
      },
      "source": [
        "res1 = stats.ttest_ind(rear, front,  random_state=rng,\n",
        "                      equal_var=True)\n",
        "\n",
        "display(res1)"
      ],
      "id": "08e5d5b1",
      "execution_count": null,
      "outputs": [
        {
          "data": {
            "text/plain": [
              "Ttest_indResult(statistic=8.693002196121649, pvalue=4.2414353450674266e-16)"
            ]
          },
          "metadata": {},
          "output_type": "display_data"
        }
      ]
    },
    {
      "cell_type": "markdown",
      "metadata": {
        "id": "34f4e965"
      },
      "source": [
        "__Results:__  Our test results show that p value of the analysis is statistically significant, which means that we reject the null hypothesis. As shown below, the price of rear drive cars expensive because it is known that most of the sport adn luxury cars have rear drive. "
      ],
      "id": "34f4e965"
    },
    {
      "cell_type": "code",
      "metadata": {
        "id": "4f7542a1",
        "outputId": "2f004a84-4e5c-4515-d173-e9c9c38dc83c"
      },
      "source": [
        "# df.DriveTrain.value_counts()\n",
        "sns.boxplot(x= 'DriveTrain', y= 'MSRP', data= df)"
      ],
      "id": "4f7542a1",
      "execution_count": null,
      "outputs": [
        {
          "data": {
            "text/plain": [
              "<AxesSubplot:xlabel='DriveTrain', ylabel='MSRP'>"
            ]
          },
          "execution_count": 26,
          "metadata": {},
          "output_type": "execute_result"
        },
        {
          "data": {
            "image/png": "[encoded data removed]",
            "text/plain": [
              "<Figure size 432x288 with 1 Axes>"
            ]
          },
          "metadata": {},
          "output_type": "display_data"
        }
      ]
    },
    {
      "cell_type": "markdown",
      "metadata": {
        "id": "8e2ade11"
      },
      "source": [
        "## Hypothesis 3\n",
        "\n",
        "Let's finally check out whether the price of Ford cars are expensive than  Toyota cars. \n",
        "\n",
        "Ho: µ Ford == µ Toyota  \n",
        "Ha: µ Ford != µ Toyota\n",
        "\n"
      ],
      "id": "8e2ade11"
    },
    {
      "cell_type": "code",
      "metadata": {
        "id": "c91e8953"
      },
      "source": [
        "# Subset data\n",
        "ford = df.query('Make == \"Ford\"')['MSRP']\n",
        "toyota = df.query('Make == \"Toyota\"')['MSRP']"
      ],
      "id": "c91e8953",
      "execution_count": null,
      "outputs": []
    },
    {
      "cell_type": "code",
      "metadata": {
        "id": "468d9d3f",
        "outputId": "a8d85d40-be98-481a-fc45-b6897f406ddd"
      },
      "source": [
        "res2 = stats.ttest_ind(rear, front, \n",
        "                      equal_var=True)\n",
        "\n",
        "display(res2)"
      ],
      "id": "468d9d3f",
      "execution_count": null,
      "outputs": [
        {
          "data": {
            "text/plain": [
              "Ttest_indResult(statistic=8.693002196121649, pvalue=4.2414353450674266e-16)"
            ]
          },
          "metadata": {},
          "output_type": "display_data"
        }
      ]
    },
    {
      "cell_type": "markdown",
      "metadata": {
        "id": "5cdee960"
      },
      "source": [
        "__Results:__ Analysis results show that the price of two car companies in our data set is also statistically significant. The p value indicates that we reject the null hypothesis. The difference can be seen below. Since we introduced the Ford first, the outout is -8.693002196121649, which means that Ford cars are that much cheaper than Toyota on average. "
      ],
      "id": "5cdee960"
    },
    {
      "cell_type": "code",
      "metadata": {
        "id": "6fb1eb3b",
        "outputId": "d6466d4b-d209-4195-e238-7f24b76eb5ba"
      },
      "source": [
        "cars = ['Ford', 'Toyota']\n",
        "df2= df[df.Make.isin(cars)]\n",
        "\n",
        "\n",
        "df2.head()\n",
        "\n",
        "sns.boxplot(x= 'Make', y= 'MSRP', data= df2)"
      ],
      "id": "6fb1eb3b",
      "execution_count": null,
      "outputs": [
        {
          "data": {
            "text/plain": [
              "<AxesSubplot:xlabel='Make', ylabel='MSRP'>"
            ]
          },
          "execution_count": 29,
          "metadata": {},
          "output_type": "execute_result"
        },
        {
          "data": {
            "image/png": "[encoded data removed]",
            "text/plain": [
              "<Figure size 432x288 with 1 Axes>"
            ]
          },
          "metadata": {},
          "output_type": "display_data"
        }
      ]
    },
    {
      "cell_type": "markdown",
      "metadata": {
        "id": "104af4a0"
      },
      "source": [
        "# Conclusion\n",
        "\n",
        "In this post, I illustrated how to make an EDA analysis for car dataset and how to create hypothesis testing models.\n",
        "\n",
        "Briefly:\n",
        "1. I converted __chr__ format variables into numbers. To do so, I first removed some chacracters from the data and then changed the data type.\n",
        "2. I replaced missing variable with the set median. \n",
        "3. I identified outliers and then remove some of them. I also prepared some codes for data normalization procedure. \n",
        "4. I created three graphs about the dataset. \n",
        "5. I created three hypothesis testing models and used ttest to compare groups means. \n",
        "6. I also created boxplots to show the ttest results in context. \n",
        "\n",
        "# Further steps\n",
        "\n",
        "The data is now ready for machine learning models. Before using them directly, we will apply normalization procedure as examplified above, including all variables.\n",
        "\n",
        "Moreover, all categorical variables need to be converted to dummy variables. \n",
        "\n",
        "\n",
        "\n",
        "\n",
        "\n",
        "__Thanks for your visit and reading!__"
      ],
      "id": "104af4a0"
    },
    {
      "cell_type": "code",
      "metadata": {
        "id": "ci5GWY67UFMR"
      },
      "source": [
        ""
      ],
      "id": "ci5GWY67UFMR",
      "execution_count": null,
      "outputs": []
    }
  ]
}